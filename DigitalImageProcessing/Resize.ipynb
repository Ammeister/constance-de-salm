{
 "cells": [
  {
   "cell_type": "code",
   "execution_count": 11,
   "metadata": {},
   "outputs": [],
   "source": [
    "import cv2\n",
    "import os\n",
    "from pathlib import Path"
   ]
  },
  {
   "cell_type": "code",
   "execution_count": 15,
   "metadata": {},
   "outputs": [],
   "source": [
    "def PagesDivider(RelativePathSource,OutputPath):\n",
    "    \"\"\"\n",
    "    To be runned, this function needs the cv2, os and pathlib.Path packages.\n",
    "    It is best used to divide a double-paged photography of a document into a single-paged one.\n",
    "    The separation between the two pages needs to be centred in order for this function results to be useable afterwards.\n",
    "    \"\"\"\n",
    "    \n",
    "    pathlist = Path(RelativePathSource).glob('*tif')\n",
    "\n",
    "    for path in pathlist :\n",
    "        path = str(path)\n",
    "        nom = os.path.splitext(path)[0]\n",
    "        im = cv2.imread(path)\n",
    "        height, width, depth = im.shape\n",
    "        if width > height :\n",
        "        widthcutoff = width // 2\n",
        "        s1 = im[:, :widthcutoff]\n",
        "        cv2.imwrite(OutputPath + path + \"_left.jpeg\", s1)\n",
        "        s2 = im[:, widthcutoff:]\n",
        "        cv2.imwrite(OutputPath + path + \"_right.jpeg\", s2)"
   ]
  },
  {
   "cell_type": "code",
   "execution_count": 14,
   "metadata": {},
   "outputs": [],
   "source": [
    "PagesDivider('./', './traite/')"
   ]
  }
 ],
 "metadata": {
  "kernelspec": {
   "display_name": "Python 3",
   "language": "python",
   "name": "python3"
  },
  "language_info": {
   "codemirror_mode": {
    "name": "ipython",
    "version": 3
   },
   "file_extension": ".py",
   "mimetype": "text/x-python",
   "name": "python",
   "nbconvert_exporter": "python",
   "pygments_lexer": "ipython3",
   "version": "3.8.5"
  }
 },
 "nbformat": 4,
 "nbformat_minor": 4
}
