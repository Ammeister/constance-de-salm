{
 "cells": [
  {
   "cell_type": "code",
   "execution_count": 1,
   "metadata": {},
   "outputs": [],
   "source": [
    "import cv2\n",
    "import os\n",
    "from pathlib import Path"
   ]
  },
  {
   "cell_type": "code",
   "execution_count": 18,
   "metadata": {},
   "outputs": [],
   "source": [
    "def PagesDivider(RelativePathSource,OutputPath):\n",
    "    \"\"\"\n",
    "    To be runned, this function needs the cv2, os and pathlib.Path packages.\n",
    "    It is best used to divide a double-paged photography of a document into a single-paged one.\n",
    "    The separation between the two pages needs to be centred in order for this function results to be useable afterwards.\n",
    "    \"\"\"\n",
    "    \n",
    "    # On crée la liste des chemins de chaque fichiers contenus dans notre dossiers se terminant par l'extension .tif\n",
    "    pathlist = Path(RelativePathSource).glob('*tif')\n",
    "    \n",
    "    # On boucle dans cette liste :\n",
    "    for path in pathlist :\n",
    "        \n",
    "        # On convertit l'objet path en chaine de caractères :\n",
    "        path = str(path)\n",
    "        \n",
    "        # Du chemin, on extrait le nom du fichier avec l'extension puis sans l'extension.\n",
    "        file = os.path.basename(path)\n",
    "        fileName = os.path.splitext(file)[0]\n",
    "        \n",
    "        # On lit l'image.\n",
    "        im = cv2.imread(path)\n",
    "        \n",
    "        # On attribue les dimensions de l'image à des variables.\n",
    "        height, width, depth = im.shape\n",
    "        \n",
    "        # On pose une condition : si la largeur est plus grande que la hauteur :\n",
    "        if width > height :\n",
    "            \n",
    "            # On crée une variable qui équivaut à la moitié de la largeur.\n",
    "            widthcutoff = width // 2\n",
    "            \n",
    "            # On crée des images qui correspondent respectivement à la moitié gauche et droite de l'image et on les sauvegarde dans le fichier cible.\n",
    "            s1 = im[:, :widthcutoff]\n",
    "            cv2.imwrite(OutputPath + fileName + \"_left.jpeg\", s1)\n",
    "            s2 = im[:, widthcutoff:]\n",
    "            cv2.imwrite(OutputPath + fileName + \"_right.jpeg\", s2)\n"
   ]
  },
  {
   "cell_type": "code",
   "execution_count": 19,
   "metadata": {},
   "outputs": [],
   "source": [
    "PagesDivider('./../', './../traite/')"
   ]
  }
 ],
 "metadata": {
  "kernelspec": {
   "display_name": "Python 3",
   "language": "python",
   "name": "python3"
  },
  "language_info": {
   "codemirror_mode": {
    "name": "ipython",
    "version": 3
   },
   "file_extension": ".py",
   "mimetype": "text/x-python",
   "name": "python",
   "nbconvert_exporter": "python",
   "pygments_lexer": "ipython3",
   "version": "3.8.5"
  }
 },
 "nbformat": 4,
 "nbformat_minor": 4
}
